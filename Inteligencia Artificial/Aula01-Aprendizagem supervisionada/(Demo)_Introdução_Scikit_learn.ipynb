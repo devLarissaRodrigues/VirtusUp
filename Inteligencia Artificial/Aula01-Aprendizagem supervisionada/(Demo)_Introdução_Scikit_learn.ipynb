{
  "nbformat": 4,
  "nbformat_minor": 0,
  "metadata": {
    "anaconda-cloud": {},
    "kernelspec": {
      "display_name": "Python 3",
      "language": "python",
      "name": "python3"
    },
    "language_info": {
      "codemirror_mode": {
        "name": "ipython",
        "version": 3
      },
      "file_extension": ".py",
      "mimetype": "text/x-python",
      "name": "python",
      "nbconvert_exporter": "python",
      "pygments_lexer": "ipython3",
      "version": "3.5.1"
    },
    "colab": {
      "provenance": []
    }
  },
  "cells": [
    {
      "cell_type": "markdown",
      "metadata": {
        "id": "U6oqyIOzZvbA"
      },
      "source": [
        "# Introdução Scikit-Learn"
      ]
    },
    {
      "cell_type": "markdown",
      "metadata": {
        "deletable": true,
        "editable": true,
        "id": "qWFmOwgOZvbU"
      },
      "source": [
        "Vamos ver um exemplo do fluxo treinamento [``fit()``] e predição [``predict()``].\n",
        "\n",
        "Iremos produzir um modelo usando Regressãão Linear. Neste momento, não se preocupe em entender como o algoritmo funciona neste momento."
      ]
    },
    {
      "cell_type": "markdown",
      "metadata": {
        "id": "MOfSl-Wa71xB"
      },
      "source": [
        "### Gerando dados fictícios\n",
        "\n",
        "Iremos gerar exemplos com apenas uma feature e seus respectivos valores previstos. Você pode imaginar, por exemplo, que cada valor de x corresponde ao comprimento de um palmo de uma pessoa e cada valor de y corresponde ao comprimento do braço da mesma pessoa.\n",
        "\n",
        "Os dados gerados seguem uma tendência (linear), pois está sendo gerado a partir de uma funcao linear f(x) = ax+b. Neste cóódigo x assume valores entre 0 e 10 e y assume valores que são um pouco mais ou um pouco menos que 2 * x."
      ]
    },
    {
      "cell_type": "code",
      "metadata": {
        "deletable": true,
        "editable": true,
        "id": "jZVCkGQ6ZvbV",
        "colab": {
          "base_uri": "https://localhost:8080/",
          "height": 265
        },
        "outputId": "eaf6eec1-84a9-4983-b564-29e0e5c5b1ee"
      },
      "source": [
        "import matplotlib.pyplot as plt\n",
        "import numpy as np\n",
        "\n",
        "rng = np.random.RandomState(10)\n",
        "x = 12 * rng.rand(60)\n",
        "y = 2 * x - 1 + rng.randn(60)\n",
        "plt.scatter(x, y);"
      ],
      "execution_count": null,
      "outputs": [
        {
          "output_type": "display_data",
          "data": {
            "image/png": "[encoded data removed]",
            "text/plain": [
              "<Figure size 432x288 with 1 Axes>"
            ]
          },
          "metadata": {
            "tags": [],
            "needs_background": "light"
          }
        }
      ]
    },
    {
      "cell_type": "markdown",
      "metadata": {
        "id": "bqKVfavj9_mE"
      },
      "source": [
        "Vamos dar uma olhada o que acontece ao usar rand(..) e randn(..)"
      ]
    },
    {
      "cell_type": "code",
      "metadata": {
        "id": "4mPY_xSE99_J",
        "colab": {
          "base_uri": "https://localhost:8080/",
          "height": 225
        },
        "outputId": "987d0b40-1e2c-44d7-e7fb-a3709fef79f3"
      },
      "source": [
        "rng.rand(60)"
      ],
      "execution_count": null,
      "outputs": [
        {
          "output_type": "execute_result",
          "data": {
            "text/plain": [
              "array([0.14762019, 0.18403482, 0.64507213, 0.04862801, 0.24861251,\n",
              "       0.54240852, 0.22677334, 0.38141153, 0.92223279, 0.92535687,\n",
              "       0.56674992, 0.53347088, 0.01486002, 0.97789926, 0.5730289 ,\n",
              "       0.791757  , 0.56155736, 0.87733524, 0.58419583, 0.70884983,\n",
              "       0.14853345, 0.42845074, 0.69389007, 0.10461974, 0.43960524,\n",
              "       0.16620215, 0.50697863, 0.81903586, 0.09010673, 0.80006875,\n",
              "       0.56512635, 0.58934771, 0.19810066, 0.43611826, 0.29590376,\n",
              "       0.03755768, 0.03068484, 0.453105  , 0.74486408, 0.55729541,\n",
              "       0.3851136 , 0.1680728 , 0.83826132, 0.5990518 , 0.78271482,\n",
              "       0.84850918, 0.60316298, 0.78106062, 0.61573688, 0.02116519,\n",
              "       0.75046461, 0.17604213, 0.45851421, 0.51312271, 0.48402089,\n",
              "       0.84438579, 0.17481389, 0.01463488, 0.84876407, 0.74267458])"
            ]
          },
          "metadata": {
            "tags": []
          },
          "execution_count": 2
        }
      ]
    },
    {
      "cell_type": "code",
      "metadata": {
        "id": "4-BWqMtRrUjj",
        "colab": {
          "base_uri": "https://localhost:8080/",
          "height": 225
        },
        "outputId": "4948df21-c988-4bc6-8af8-498bae3aa0c7"
      },
      "source": [
        "rng.randn(60)"
      ],
      "execution_count": null,
      "outputs": [
        {
          "output_type": "execute_result",
          "data": {
            "text/plain": [
              "array([-2.29510333, -1.19592931, -0.33310116, -0.79139077,  0.27417278,\n",
              "       -0.51490992, -1.7110712 ,  0.61229731,  1.10012937,  0.56435253,\n",
              "       -0.71279944, -0.26085948,  0.54842807,  0.60319905,  1.00686114,\n",
              "       -0.29442601, -1.42088052, -0.67894677,  0.53388481,  0.7439744 ,\n",
              "        2.22504964,  0.11718142,  0.24461452, -0.17729882, -0.40572953,\n",
              "        0.78177519,  0.35347761, -0.20727949, -1.07969738, -0.12306983,\n",
              "       -0.39098219,  1.25517373,  0.94712608, -1.02231069,  1.16716837,\n",
              "       -0.57197681,  0.1331375 ,  1.20274387, -1.02475297,  0.16039916,\n",
              "       -1.13047529, -1.94129968,  0.98659782,  0.02822737, -0.8223676 ,\n",
              "       -1.58655176, -0.40147282,  1.34217928,  0.40246909, -0.37276142,\n",
              "       -0.67202344,  0.10581208, -1.54730539,  1.34480651,  0.50318918,\n",
              "        1.1943506 , -0.56350567,  0.85482876,  0.68790473, -1.53306872])"
            ]
          },
          "metadata": {
            "tags": []
          },
          "execution_count": 3
        }
      ]
    },
    {
      "cell_type": "markdown",
      "metadata": {
        "id": "MNlEFh0xszzw"
      },
      "source": [
        "### Gerando o Modelo"
      ]
    },
    {
      "cell_type": "markdown",
      "metadata": {
        "deletable": true,
        "editable": true,
        "id": "Zrsf4Xo4ZvbX"
      },
      "source": [
        "Escolhendo a classe do modelo"
      ]
    },
    {
      "cell_type": "code",
      "metadata": {
        "deletable": true,
        "editable": true,
        "id": "wkAnlLYjZvbX"
      },
      "source": [
        "from sklearn.linear_model import LinearRegression"
      ],
      "execution_count": null,
      "outputs": []
    },
    {
      "cell_type": "markdown",
      "metadata": {
        "deletable": true,
        "editable": true,
        "id": "yBbczmfCZvbZ"
      },
      "source": [
        "Instanciando o modelo"
      ]
    },
    {
      "cell_type": "code",
      "metadata": {
        "deletable": true,
        "editable": true,
        "id": "4TgqWB5MZvbZ",
        "colab": {
          "base_uri": "https://localhost:8080/",
          "height": 34
        },
        "outputId": "a190ccf2-a2b3-4ad1-b139-fc000ca72114"
      },
      "source": [
        "model = LinearRegression(fit_intercept=True)\n",
        "model"
      ],
      "execution_count": null,
      "outputs": [
        {
          "output_type": "execute_result",
          "data": {
            "text/plain": [
              "LinearRegression(copy_X=True, fit_intercept=True, n_jobs=None, normalize=False)"
            ]
          },
          "metadata": {
            "tags": []
          },
          "execution_count": 5
        }
      ]
    },
    {
      "cell_type": "markdown",
      "metadata": {
        "deletable": true,
        "editable": true,
        "id": "pG_BcUUbZvbb"
      },
      "source": [
        "Observe que X não está no formato que precisamos [n_samples, n_features]. O vetor y já está OK."
      ]
    },
    {
      "cell_type": "code",
      "metadata": {
        "id": "D6D6UeIEP2rF",
        "colab": {
          "base_uri": "https://localhost:8080/",
          "height": 34
        },
        "outputId": "867ae8ec-f808-4d84-d05b-226ca9dd0240"
      },
      "source": [
        "x.shape"
      ],
      "execution_count": null,
      "outputs": [
        {
          "output_type": "execute_result",
          "data": {
            "text/plain": [
              "(60,)"
            ]
          },
          "metadata": {
            "tags": []
          },
          "execution_count": 6
        }
      ]
    },
    {
      "cell_type": "markdown",
      "metadata": {
        "id": "ULYJpWmIBBfk"
      },
      "source": [
        "Vamos então fazer o reshape X para manter no formato [n_samples, n_features]"
      ]
    },
    {
      "cell_type": "code",
      "metadata": {
        "deletable": true,
        "editable": true,
        "id": "nycTQzaNZvbb",
        "colab": {
          "base_uri": "https://localhost:8080/",
          "height": 34
        },
        "outputId": "92e11f6c-688d-45a0-fbf2-36e58bd71e4a"
      },
      "source": [
        "X = x[:, np.newaxis]\n",
        "X.shape #apos o reshape"
      ],
      "execution_count": null,
      "outputs": [
        {
          "output_type": "execute_result",
          "data": {
            "text/plain": [
              "(60, 1)"
            ]
          },
          "metadata": {
            "tags": []
          },
          "execution_count": 7
        }
      ]
    },
    {
      "cell_type": "markdown",
      "metadata": {
        "deletable": true,
        "editable": true,
        "id": "D68zfBJJZvbd"
      },
      "source": [
        "Executando o método fit() para realizar o treinamento do modelo"
      ]
    },
    {
      "cell_type": "code",
      "metadata": {
        "deletable": true,
        "editable": true,
        "id": "HDqDGzkXZvbd",
        "colab": {
          "base_uri": "https://localhost:8080/",
          "height": 34
        },
        "outputId": "f83d3718-f9a4-450d-9026-acee7c993646"
      },
      "source": [
        "model.fit(X, y)"
      ],
      "execution_count": null,
      "outputs": [
        {
          "output_type": "execute_result",
          "data": {
            "text/plain": [
              "LinearRegression(copy_X=True, fit_intercept=True, n_jobs=None, normalize=False)"
            ]
          },
          "metadata": {
            "tags": []
          },
          "execution_count": 8
        }
      ]
    },
    {
      "cell_type": "markdown",
      "metadata": {
        "id": "v2_8cEkpt1MX"
      },
      "source": [
        "### Inspecionando o modelo gerado"
      ]
    },
    {
      "cell_type": "markdown",
      "metadata": {
        "deletable": true,
        "editable": true,
        "id": "-ESNrGIwZvbf"
      },
      "source": [
        "Vamos inspecionar alguns atributos específicos do modelo (slope e intercept).\n",
        "\n",
        "Esses dois parâmetros representam a inclinação e a interceptação da regressão linear.\n",
        "\n",
        "Vemos que eles estão bem próximos do que especificamos ao 'fabricar' os dados."
      ]
    },
    {
      "cell_type": "code",
      "metadata": {
        "deletable": true,
        "editable": true,
        "id": "fMQFP1v8Zvbf",
        "colab": {
          "base_uri": "https://localhost:8080/",
          "height": 34
        },
        "outputId": "c54edd94-6574-42d4-841e-3bbedf957da2"
      },
      "source": [
        "model.coef_"
      ],
      "execution_count": null,
      "outputs": [
        {
          "output_type": "execute_result",
          "data": {
            "text/plain": [
              "array([1.97649776])"
            ]
          },
          "metadata": {
            "tags": []
          },
          "execution_count": 9
        }
      ]
    },
    {
      "cell_type": "code",
      "metadata": {
        "deletable": true,
        "editable": true,
        "id": "bhXNBjDRZvbg",
        "colab": {
          "base_uri": "https://localhost:8080/",
          "height": 34
        },
        "outputId": "a60cb5df-69df-4986-d032-7c2499292a45"
      },
      "source": [
        "model.intercept_"
      ],
      "execution_count": null,
      "outputs": [
        {
          "output_type": "execute_result",
          "data": {
            "text/plain": [
              "-0.831156676505941"
            ]
          },
          "metadata": {
            "tags": []
          },
          "execution_count": 10
        }
      ]
    },
    {
      "cell_type": "markdown",
      "metadata": {
        "deletable": true,
        "editable": true,
        "id": "_a2ptLqPZvbi"
      },
      "source": [
        "#### Realizando previsões com dados desconhecidos"
      ]
    },
    {
      "cell_type": "markdown",
      "metadata": {
        "id": "-KX-J-4i7OK8"
      },
      "source": [
        "Vamos começar fazendo uma única predição.\n",
        "\n",
        "Experimente alguns valores diferentes e perceba que y será um pouco mais ou um pouco menos do que 2 * x"
      ]
    },
    {
      "cell_type": "code",
      "metadata": {
        "id": "ck-TJB2y7mIa",
        "colab": {
          "base_uri": "https://localhost:8080/",
          "height": 34
        },
        "outputId": "89b9a685-80bd-41e9-db92-906b2e7e7d9d"
      },
      "source": [
        "model.predict([[12.0]])"
      ],
      "execution_count": null,
      "outputs": [
        {
          "output_type": "execute_result",
          "data": {
            "text/plain": [
              "array([22.8868165])"
            ]
          },
          "metadata": {
            "tags": []
          },
          "execution_count": 12
        }
      ]
    },
    {
      "cell_type": "markdown",
      "metadata": {
        "id": "TInxo-nS7WdS"
      },
      "source": [
        "Agora vamos avaliar nosso preditor para um conjunto maior de dados. Para fins deste exemplo, nossos \"novos dados\" serão um vetor de valores *x* e perguntaremos quais valores *y* o modelo prevê:"
      ]
    },
    {
      "cell_type": "code",
      "metadata": {
        "deletable": true,
        "editable": true,
        "id": "i3182tcbZvbi",
        "colab": {
          "base_uri": "https://localhost:8080/",
          "height": 191
        },
        "outputId": "6f1f5070-1c41-4ac4-e765-b3d6b67217dd"
      },
      "source": [
        "xfit = np.linspace(-1, 13) #gera numeros bem distribuidos entre -1 e 13\n",
        "xfit"
      ],
      "execution_count": null,
      "outputs": [
        {
          "output_type": "execute_result",
          "data": {
            "text/plain": [
              "array([-1.        , -0.71428571, -0.42857143, -0.14285714,  0.14285714,\n",
              "        0.42857143,  0.71428571,  1.        ,  1.28571429,  1.57142857,\n",
              "        1.85714286,  2.14285714,  2.42857143,  2.71428571,  3.        ,\n",
              "        3.28571429,  3.57142857,  3.85714286,  4.14285714,  4.42857143,\n",
              "        4.71428571,  5.        ,  5.28571429,  5.57142857,  5.85714286,\n",
              "        6.14285714,  6.42857143,  6.71428571,  7.        ,  7.28571429,\n",
              "        7.57142857,  7.85714286,  8.14285714,  8.42857143,  8.71428571,\n",
              "        9.        ,  9.28571429,  9.57142857,  9.85714286, 10.14285714,\n",
              "       10.42857143, 10.71428571, 11.        , 11.28571429, 11.57142857,\n",
              "       11.85714286, 12.14285714, 12.42857143, 12.71428571, 13.        ])"
            ]
          },
          "metadata": {
            "tags": []
          },
          "execution_count": 13
        }
      ]
    },
    {
      "cell_type": "markdown",
      "metadata": {
        "deletable": true,
        "editable": true,
        "id": "ScZVsrHnZvbj"
      },
      "source": [
        "Os valores de *xfit* precisam estar em uma matriz ``[n_samples, n_features]``. Vamos fazer o reshape de *xfit* e armazenar o resultado em *Xfit*."
      ]
    },
    {
      "cell_type": "code",
      "metadata": {
        "deletable": true,
        "editable": true,
        "id": "LayZposFZvbj"
      },
      "source": [
        "Xfit = xfit[:, np.newaxis]\n",
        "#yfit = model.predict(Xfit)"
      ],
      "execution_count": null,
      "outputs": []
    },
    {
      "cell_type": "markdown",
      "metadata": {
        "id": "G6zN4UzM6oyU"
      },
      "source": [
        "Fazendo a previsao com o metodo predict()"
      ]
    },
    {
      "cell_type": "code",
      "metadata": {
        "deletable": true,
        "editable": true,
        "id": "tjKPeULC7C9Y"
      },
      "source": [
        "yfit = model.predict(Xfit)"
      ],
      "execution_count": null,
      "outputs": []
    },
    {
      "cell_type": "markdown",
      "metadata": {
        "deletable": true,
        "editable": true,
        "id": "pFbj258BZvbk"
      },
      "source": [
        "Por fim, vamos visualizar os resultados plotando primeiro os dados brutos e, em seguida, os dados previstos pelo modelo."
      ]
    },
    {
      "cell_type": "code",
      "metadata": {
        "deletable": true,
        "editable": true,
        "id": "NGuqLekMZvbl",
        "colab": {
          "base_uri": "https://localhost:8080/",
          "height": 265
        },
        "outputId": "22addcdf-4770-453f-e0df-8f9a2be4ab86"
      },
      "source": [
        "plt.scatter(x, y) #dados brutos\n",
        "plt.plot(xfit, yfit); #valores preditos"
      ],
      "execution_count": null,
      "outputs": [
        {
          "output_type": "display_data",
          "data": {
            "image/png": "[encoded data removed]",
            "text/plain": [
              "<Figure size 432x288 with 1 Axes>"
            ]
          },
          "metadata": {
            "tags": [],
            "needs_background": "light"
          }
        }
      ]
    },
    {
      "cell_type": "markdown",
      "metadata": {
        "id": "m8Z8g0XBF4wX"
      },
      "source": [
        "## Carregando um dataset com sklearn.datasets\n",
        "\n",
        "Não utilizaremos estes dados neste exercício. Isto é apenas para ilustrar como podemos carregar datasets prontos oferecidos pelo scikit.\n",
        "\n",
        "No próximo exercício, iremos treinar um modelo usando um dataset carregado desta maneira."
      ]
    },
    {
      "cell_type": "markdown",
      "metadata": {
        "id": "tR-L9Ackf2z0"
      },
      "source": [
        "### Carregando o dataset"
      ]
    },
    {
      "cell_type": "code",
      "metadata": {
        "id": "MoM-z6oJ2Hgz"
      },
      "source": [
        "from sklearn.datasets import load_iris\n",
        "\n",
        "irisds = load_iris() #sklearn.utils.Bunch"
      ],
      "execution_count": null,
      "outputs": []
    },
    {
      "cell_type": "markdown",
      "metadata": {
        "id": "WN5JCgXthbxa"
      },
      "source": [
        "### Exibindo os exemplos (valores das features)"
      ]
    },
    {
      "cell_type": "code",
      "metadata": {
        "id": "xFWrku7FgNte",
        "colab": {
          "base_uri": "https://localhost:8080/",
          "height": 1000
        },
        "outputId": "2c1ffca0-4ee3-43ad-88cc-6986ed3aee9e"
      },
      "source": [
        "irisds.data #numpy.ndarray"
      ],
      "execution_count": null,
      "outputs": [
        {
          "output_type": "execute_result",
          "data": {
            "text/plain": [
              "array([[5.1, 3.5, 1.4, 0.2],\n",
              "       [4.9, 3. , 1.4, 0.2],\n",
              "       [4.7, 3.2, 1.3, 0.2],\n",
              "       [4.6, 3.1, 1.5, 0.2],\n",
              "       [5. , 3.6, 1.4, 0.2],\n",
              "       [5.4, 3.9, 1.7, 0.4],\n",
              "       [4.6, 3.4, 1.4, 0.3],\n",
              "       [5. , 3.4, 1.5, 0.2],\n",
              "       [4.4, 2.9, 1.4, 0.2],\n",
              "       [4.9, 3.1, 1.5, 0.1],\n",
              "       [5.4, 3.7, 1.5, 0.2],\n",
              "       [4.8, 3.4, 1.6, 0.2],\n",
              "       [4.8, 3. , 1.4, 0.1],\n",
              "       [4.3, 3. , 1.1, 0.1],\n",
              "       [5.8, 4. , 1.2, 0.2],\n",
              "       [5.7, 4.4, 1.5, 0.4],\n",
              "       [5.4, 3.9, 1.3, 0.4],\n",
              "       [5.1, 3.5, 1.4, 0.3],\n",
              "       [5.7, 3.8, 1.7, 0.3],\n",
              "       [5.1, 3.8, 1.5, 0.3],\n",
              "       [5.4, 3.4, 1.7, 0.2],\n",
              "       [5.1, 3.7, 1.5, 0.4],\n",
              "       [4.6, 3.6, 1. , 0.2],\n",
              "       [5.1, 3.3, 1.7, 0.5],\n",
              "       [4.8, 3.4, 1.9, 0.2],\n",
              "       [5. , 3. , 1.6, 0.2],\n",
              "       [5. , 3.4, 1.6, 0.4],\n",
              "       [5.2, 3.5, 1.5, 0.2],\n",
              "       [5.2, 3.4, 1.4, 0.2],\n",
              "       [4.7, 3.2, 1.6, 0.2],\n",
              "       [4.8, 3.1, 1.6, 0.2],\n",
              "       [5.4, 3.4, 1.5, 0.4],\n",
              "       [5.2, 4.1, 1.5, 0.1],\n",
              "       [5.5, 4.2, 1.4, 0.2],\n",
              "       [4.9, 3.1, 1.5, 0.2],\n",
              "       [5. , 3.2, 1.2, 0.2],\n",
              "       [5.5, 3.5, 1.3, 0.2],\n",
              "       [4.9, 3.6, 1.4, 0.1],\n",
              "       [4.4, 3. , 1.3, 0.2],\n",
              "       [5.1, 3.4, 1.5, 0.2],\n",
              "       [5. , 3.5, 1.3, 0.3],\n",
              "       [4.5, 2.3, 1.3, 0.3],\n",
              "       [4.4, 3.2, 1.3, 0.2],\n",
              "       [5. , 3.5, 1.6, 0.6],\n",
              "       [5.1, 3.8, 1.9, 0.4],\n",
              "       [4.8, 3. , 1.4, 0.3],\n",
              "       [5.1, 3.8, 1.6, 0.2],\n",
              "       [4.6, 3.2, 1.4, 0.2],\n",
              "       [5.3, 3.7, 1.5, 0.2],\n",
              "       [5. , 3.3, 1.4, 0.2],\n",
              "       [7. , 3.2, 4.7, 1.4],\n",
              "       [6.4, 3.2, 4.5, 1.5],\n",
              "       [6.9, 3.1, 4.9, 1.5],\n",
              "       [5.5, 2.3, 4. , 1.3],\n",
              "       [6.5, 2.8, 4.6, 1.5],\n",
              "       [5.7, 2.8, 4.5, 1.3],\n",
              "       [6.3, 3.3, 4.7, 1.6],\n",
              "       [4.9, 2.4, 3.3, 1. ],\n",
              "       [6.6, 2.9, 4.6, 1.3],\n",
              "       [5.2, 2.7, 3.9, 1.4],\n",
              "       [5. , 2. , 3.5, 1. ],\n",
              "       [5.9, 3. , 4.2, 1.5],\n",
              "       [6. , 2.2, 4. , 1. ],\n",
              "       [6.1, 2.9, 4.7, 1.4],\n",
              "       [5.6, 2.9, 3.6, 1.3],\n",
              "       [6.7, 3.1, 4.4, 1.4],\n",
              "       [5.6, 3. , 4.5, 1.5],\n",
              "       [5.8, 2.7, 4.1, 1. ],\n",
              "       [6.2, 2.2, 4.5, 1.5],\n",
              "       [5.6, 2.5, 3.9, 1.1],\n",
              "       [5.9, 3.2, 4.8, 1.8],\n",
              "       [6.1, 2.8, 4. , 1.3],\n",
              "       [6.3, 2.5, 4.9, 1.5],\n",
              "       [6.1, 2.8, 4.7, 1.2],\n",
              "       [6.4, 2.9, 4.3, 1.3],\n",
              "       [6.6, 3. , 4.4, 1.4],\n",
              "       [6.8, 2.8, 4.8, 1.4],\n",
              "       [6.7, 3. , 5. , 1.7],\n",
              "       [6. , 2.9, 4.5, 1.5],\n",
              "       [5.7, 2.6, 3.5, 1. ],\n",
              "       [5.5, 2.4, 3.8, 1.1],\n",
              "       [5.5, 2.4, 3.7, 1. ],\n",
              "       [5.8, 2.7, 3.9, 1.2],\n",
              "       [6. , 2.7, 5.1, 1.6],\n",
              "       [5.4, 3. , 4.5, 1.5],\n",
              "       [6. , 3.4, 4.5, 1.6],\n",
              "       [6.7, 3.1, 4.7, 1.5],\n",
              "       [6.3, 2.3, 4.4, 1.3],\n",
              "       [5.6, 3. , 4.1, 1.3],\n",
              "       [5.5, 2.5, 4. , 1.3],\n",
              "       [5.5, 2.6, 4.4, 1.2],\n",
              "       [6.1, 3. , 4.6, 1.4],\n",
              "       [5.8, 2.6, 4. , 1.2],\n",
              "       [5. , 2.3, 3.3, 1. ],\n",
              "       [5.6, 2.7, 4.2, 1.3],\n",
              "       [5.7, 3. , 4.2, 1.2],\n",
              "       [5.7, 2.9, 4.2, 1.3],\n",
              "       [6.2, 2.9, 4.3, 1.3],\n",
              "       [5.1, 2.5, 3. , 1.1],\n",
              "       [5.7, 2.8, 4.1, 1.3],\n",
              "       [6.3, 3.3, 6. , 2.5],\n",
              "       [5.8, 2.7, 5.1, 1.9],\n",
              "       [7.1, 3. , 5.9, 2.1],\n",
              "       [6.3, 2.9, 5.6, 1.8],\n",
              "       [6.5, 3. , 5.8, 2.2],\n",
              "       [7.6, 3. , 6.6, 2.1],\n",
              "       [4.9, 2.5, 4.5, 1.7],\n",
              "       [7.3, 2.9, 6.3, 1.8],\n",
              "       [6.7, 2.5, 5.8, 1.8],\n",
              "       [7.2, 3.6, 6.1, 2.5],\n",
              "       [6.5, 3.2, 5.1, 2. ],\n",
              "       [6.4, 2.7, 5.3, 1.9],\n",
              "       [6.8, 3. , 5.5, 2.1],\n",
              "       [5.7, 2.5, 5. , 2. ],\n",
              "       [5.8, 2.8, 5.1, 2.4],\n",
              "       [6.4, 3.2, 5.3, 2.3],\n",
              "       [6.5, 3. , 5.5, 1.8],\n",
              "       [7.7, 3.8, 6.7, 2.2],\n",
              "       [7.7, 2.6, 6.9, 2.3],\n",
              "       [6. , 2.2, 5. , 1.5],\n",
              "       [6.9, 3.2, 5.7, 2.3],\n",
              "       [5.6, 2.8, 4.9, 2. ],\n",
              "       [7.7, 2.8, 6.7, 2. ],\n",
              "       [6.3, 2.7, 4.9, 1.8],\n",
              "       [6.7, 3.3, 5.7, 2.1],\n",
              "       [7.2, 3.2, 6. , 1.8],\n",
              "       [6.2, 2.8, 4.8, 1.8],\n",
              "       [6.1, 3. , 4.9, 1.8],\n",
              "       [6.4, 2.8, 5.6, 2.1],\n",
              "       [7.2, 3. , 5.8, 1.6],\n",
              "       [7.4, 2.8, 6.1, 1.9],\n",
              "       [7.9, 3.8, 6.4, 2. ],\n",
              "       [6.4, 2.8, 5.6, 2.2],\n",
              "       [6.3, 2.8, 5.1, 1.5],\n",
              "       [6.1, 2.6, 5.6, 1.4],\n",
              "       [7.7, 3. , 6.1, 2.3],\n",
              "       [6.3, 3.4, 5.6, 2.4],\n",
              "       [6.4, 3.1, 5.5, 1.8],\n",
              "       [6. , 3. , 4.8, 1.8],\n",
              "       [6.9, 3.1, 5.4, 2.1],\n",
              "       [6.7, 3.1, 5.6, 2.4],\n",
              "       [6.9, 3.1, 5.1, 2.3],\n",
              "       [5.8, 2.7, 5.1, 1.9],\n",
              "       [6.8, 3.2, 5.9, 2.3],\n",
              "       [6.7, 3.3, 5.7, 2.5],\n",
              "       [6.7, 3. , 5.2, 2.3],\n",
              "       [6.3, 2.5, 5. , 1.9],\n",
              "       [6.5, 3. , 5.2, 2. ],\n",
              "       [6.2, 3.4, 5.4, 2.3],\n",
              "       [5.9, 3. , 5.1, 1.8]])"
            ]
          },
          "metadata": {
            "tags": []
          },
          "execution_count": 18
        }
      ]
    },
    {
      "cell_type": "markdown",
      "metadata": {
        "id": "7zfek1Ugl6Am"
      },
      "source": [
        "### Exibindo os nomes das features"
      ]
    },
    {
      "cell_type": "code",
      "metadata": {
        "id": "EdGBm6SeoiAt",
        "colab": {
          "base_uri": "https://localhost:8080/",
          "height": 86
        },
        "outputId": "ef75b27b-4d49-4da5-d8cd-89b970e62176"
      },
      "source": [
        "irisds.feature_names #list"
      ],
      "execution_count": null,
      "outputs": [
        {
          "output_type": "execute_result",
          "data": {
            "text/plain": [
              "['sepal length (cm)',\n",
              " 'sepal width (cm)',\n",
              " 'petal length (cm)',\n",
              " 'petal width (cm)']"
            ]
          },
          "metadata": {
            "tags": []
          },
          "execution_count": 19
        }
      ]
    },
    {
      "cell_type": "markdown",
      "metadata": {
        "id": "AYsNsD2Iha2q"
      },
      "source": [
        "#### Exibindo os valores dos rótulos\n",
        "\n"
      ]
    },
    {
      "cell_type": "code",
      "metadata": {
        "id": "67WkBdwO8uVw",
        "colab": {
          "base_uri": "https://localhost:8080/",
          "height": 139
        },
        "outputId": "d09686e1-fab2-41b5-a3ea-e860e361859c"
      },
      "source": [
        "irisds.target #numpy.ndarray"
      ],
      "execution_count": null,
      "outputs": [
        {
          "output_type": "execute_result",
          "data": {
            "text/plain": [
              "array([0, 0, 0, 0, 0, 0, 0, 0, 0, 0, 0, 0, 0, 0, 0, 0, 0, 0, 0, 0, 0, 0,\n",
              "       0, 0, 0, 0, 0, 0, 0, 0, 0, 0, 0, 0, 0, 0, 0, 0, 0, 0, 0, 0, 0, 0,\n",
              "       0, 0, 0, 0, 0, 0, 1, 1, 1, 1, 1, 1, 1, 1, 1, 1, 1, 1, 1, 1, 1, 1,\n",
              "       1, 1, 1, 1, 1, 1, 1, 1, 1, 1, 1, 1, 1, 1, 1, 1, 1, 1, 1, 1, 1, 1,\n",
              "       1, 1, 1, 1, 1, 1, 1, 1, 1, 1, 1, 1, 2, 2, 2, 2, 2, 2, 2, 2, 2, 2,\n",
              "       2, 2, 2, 2, 2, 2, 2, 2, 2, 2, 2, 2, 2, 2, 2, 2, 2, 2, 2, 2, 2, 2,\n",
              "       2, 2, 2, 2, 2, 2, 2, 2, 2, 2, 2, 2, 2, 2, 2, 2, 2, 2])"
            ]
          },
          "metadata": {
            "tags": []
          },
          "execution_count": 20
        }
      ]
    },
    {
      "cell_type": "markdown",
      "metadata": {
        "id": "nOTKGwgTmN3a"
      },
      "source": [
        "#### Exibindo os nomes dos rótulos\n",
        "\n"
      ]
    },
    {
      "cell_type": "code",
      "metadata": {
        "id": "l_iVCpEHmN3g",
        "colab": {
          "base_uri": "https://localhost:8080/",
          "height": 34
        },
        "outputId": "71635c3d-72e8-4afc-ce2a-33a6d83be855"
      },
      "source": [
        "irisds.target_names #numpy.ndarray"
      ],
      "execution_count": null,
      "outputs": [
        {
          "output_type": "execute_result",
          "data": {
            "text/plain": [
              "array(['setosa', 'versicolor', 'virginica'], dtype='<U10')"
            ]
          },
          "metadata": {
            "tags": []
          },
          "execution_count": 21
        }
      ]
    },
    {
      "cell_type": "code",
      "metadata": {
        "id": "o0i1fqOxGBFH"
      },
      "source": [],
      "execution_count": null,
      "outputs": []
    }
  ]
}